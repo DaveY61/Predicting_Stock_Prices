{
 "cells": [
  {
   "cell_type": "markdown",
   "id": "0699e84f-4c1c-4126-96bb-99b1230d703b",
   "metadata": {},
   "source": [
    "# Wildlife Conservation and Biodiversity Machine Learning Model\n"
   ]
  },
  {
   "cell_type": "markdown",
   "id": "30381cda-995d-4d64-ae4f-066e8c7bc8cd",
   "metadata": {},
   "source": [
    "## Setting UP Environment"
   ]
  },
  {
   "cell_type": "code",
   "execution_count": 95,
   "id": "b7205a82-b215-4f78-9569-38dab87dc1ea",
   "metadata": {
    "tags": []
   },
   "outputs": [],
   "source": [
    "# Importing necessary libraries\n",
    "import requests  # For making API requests\n",
    "import pandas as pd  # For data manipulation\n",
    "import numpy as np  # For numerical operations"
   ]
  },
  {
   "cell_type": "markdown",
   "id": "e90d6a01-fa88-4891-9c75-63af791e5050",
   "metadata": {},
   "source": [
    "## API Connection Setup"
   ]
  },
  {
   "cell_type": "code",
   "execution_count": 98,
   "id": "cc2086bb-67b0-4dab-b659-fe25abf02348",
   "metadata": {
    "tags": []
   },
   "outputs": [],
   "source": [
    "# Constants for API endpoints and keys\n",
    "# Constants for API endpoints and keys\n",
    "GBIF_ENDPOINT = \"https://api.gbif.org/v1/\"  # Endpoint for accessing biodiversity observation data from GBIF\n",
    "NOAA_ENDPOINT = \"https://www.ncdc.noaa.gov/cdo-web/api/v2/data\"  # Endpoint for accessing climate data from NOAA\n",
    "NOAA_TOKEN = \"huoQNFOQsXXHRaxWUgfKRKToVUTXLsQw\"  # Authentication token required for NOAA API"
   ]
  },
  {
   "cell_type": "code",
   "execution_count": 85,
   "id": "0a568dd5-9d5a-4655-955f-f559f6b409f3",
   "metadata": {
    "tags": []
   },
   "outputs": [],
   "source": [
    "# Function to set up API headers for NOAA\n",
    "def setup_noaa_headers():\n",
    "    return {'token': NOAA_TOKEN}  # Headers required for NOAA to authenticate and allow data requests\n",
    "\n",
    "# Pseudocode:\n",
    "# Define a function to create headers necessary for connecting to the NOAA API.\n",
    "\n",
    "# Function to set up all required API headers\n",
    "def setup_api_headers():\n",
    "    headers = {\n",
    "        \"NOAA\": setup_noaa_headers(),  # Headers for NOAA API\n",
    "        \"GBIF\": {},  # No additional headers required for GBIF as it does not require authentication for public data access\n",
    "    }\n",
    "    return headers\n"
   ]
  },
  {
   "cell_type": "code",
   "execution_count": 87,
   "id": "9c885ba8-8e75-4303-8123-a66ed5b1b58b",
   "metadata": {
    "tags": []
   },
   "outputs": [
    {
     "name": "stdout",
     "output_type": "stream",
     "text": [
      "{'NOAA': {'token': 'huoQNFOQsXXHRaxWUgfKRKToVUTXLsQw'}, 'GBIF': {}, 'GFW': {}, 'PROTECTED_PLANET': {}}\n"
     ]
    }
   ],
   "source": [
    "# Call the setup_api_headers function and print the result to verify headers are correctly set up\n",
    "api_headers = setup_api_headers()\n",
    "print(api_headers)"
   ]
  },
  {
   "cell_type": "code",
   "execution_count": 89,
   "id": "591e5b57-b31b-4d5a-9bf2-2afc8370bbcd",
   "metadata": {
    "tags": []
   },
   "outputs": [
    {
     "name": "stdout",
     "output_type": "stream",
     "text": [
      "GBIF API connection successful!\n",
      "NOAA API connection successful!\n",
      "GFW API connection failed!\n",
      "Protected Planet API connection failed!\n"
     ]
    }
   ],
   "source": [
    "# Function to test API connections\n",
    "def test_api_connections():\n",
    "    headers = setup_api_headers()\n",
    "    \n",
    "    # Testing GBIF API connection\n",
    "    gbif_response = requests.get(GBIF_ENDPOINT + \"occurrence/search\", params={\"limit\": 1})\n",
    "    if gbif_response.status_code == 200:\n",
    "        print(\"GBIF API connection successful!\")\n",
    "    else:\n",
    "        print(\"GBIF API connection failed!\")\n",
    "    \n",
    "    # Testing NOAA API connection\n",
    "    noaa_response = requests.get(NOAA_ENDPOINT, headers=headers[\"NOAA\"], params={\"datasetid\": \"GHCND\", \"locationid\": \"CITY:US390029\", \"startdate\": \"2020-01-01\", \"enddate\": \"2020-01-02\", \"limit\": 1})\n",
    "    if noaa_response.status_code == 200:\n",
    "        print(\"NOAA API connection successful!\")\n",
    "    else:\n",
    "        print(\"NOAA API connection failed!\")\n",
    "    \n",
    "    # Testing GFW API connection\n",
    "    gfw_response = requests.get(GFW_ENDPOINT + \"glad-alerts\", params={\"limit\": 1})\n",
    "    if gfw_response.status_code == 200:\n",
    "        print(\"GFW API connection successful!\")\n",
    "    else:\n",
    "        print(\"GFW API connection failed!\")\n",
    "    \n",
    "    # Testing Protected Planet API connection\n",
    "    protected_planet_response = requests.get(PROTECTED_PLANET_ENDPOINT, params={\"q\": \"test\", \"per_page\": 1})\n",
    "    if protected_planet_response.status_code == 200:\n",
    "        print(\"Protected Planet API connection successful!\")\n",
    "    else:\n",
    "        print(\"Protected Planet API connection failed!\")\n",
    "\n",
    "# Pseudocode:\n",
    "# Define a function to test the API connections by making a simple request to each endpoint and checking the response status.\n",
    "\n",
    "# Call the test function\n",
    "test_api_connections()\n",
    "\n",
    "# Pseudocode:\n",
    "# Call the function to test API connections and print the results."
   ]
  },
  {
   "cell_type": "markdown",
   "id": "00a3d28f-5f09-4910-af17-bb139aaecb62",
   "metadata": {},
   "source": [
    "## Data Collection and Cleaning"
   ]
  },
  {
   "cell_type": "code",
   "execution_count": null,
   "id": "579c83d8-d9b1-4fff-88fb-aaea7a383828",
   "metadata": {
    "tags": []
   },
   "outputs": [],
   "source": []
  },
  {
   "cell_type": "code",
   "execution_count": null,
   "id": "368fbdaf-5a9b-459d-a7a6-8b0e8425d202",
   "metadata": {
    "tags": []
   },
   "outputs": [],
   "source": []
  },
  {
   "cell_type": "code",
   "execution_count": null,
   "id": "5786a606-74ef-4df9-8d6e-d51320f72e32",
   "metadata": {
    "tags": []
   },
   "outputs": [],
   "source": []
  },
  {
   "cell_type": "code",
   "execution_count": null,
   "id": "9528c949-ee92-4c4c-9b61-3fbaafe177a9",
   "metadata": {
    "tags": []
   },
   "outputs": [],
   "source": [
    "\n",
    "\n"
   ]
  },
  {
   "cell_type": "code",
   "execution_count": null,
   "id": "af614e4b-174a-4cd2-b5c2-a02967fe02ad",
   "metadata": {
    "tags": []
   },
   "outputs": [],
   "source": []
  },
  {
   "cell_type": "code",
   "execution_count": null,
   "id": "02564d34-c642-4686-8105-376dc65751e2",
   "metadata": {
    "tags": []
   },
   "outputs": [],
   "source": []
  },
  {
   "cell_type": "code",
   "execution_count": null,
   "id": "ee9c9f7a-a3c4-4277-b050-c6bde7ddfce5",
   "metadata": {
    "tags": []
   },
   "outputs": [],
   "source": []
  },
  {
   "cell_type": "code",
   "execution_count": null,
   "id": "c9bb3e0f-4b92-4e2d-b599-3b58d6daa9bc",
   "metadata": {},
   "outputs": [],
   "source": []
  },
  {
   "cell_type": "code",
   "execution_count": null,
   "id": "7cf7d894-1255-4eba-937d-59dd72616cd5",
   "metadata": {},
   "outputs": [],
   "source": []
  },
  {
   "cell_type": "code",
   "execution_count": null,
   "id": "b34f6b5a-0f01-4c77-a5ec-74e2e4780eef",
   "metadata": {},
   "outputs": [],
   "source": []
  },
  {
   "cell_type": "code",
   "execution_count": null,
   "id": "5381caa9-3438-4fc8-a6f8-699298eb0c7a",
   "metadata": {},
   "outputs": [],
   "source": []
  },
  {
   "cell_type": "code",
   "execution_count": null,
   "id": "19ffba0f-0cdc-4461-8c2c-b335f718c0b3",
   "metadata": {},
   "outputs": [],
   "source": []
  },
  {
   "cell_type": "code",
   "execution_count": null,
   "id": "9d659743-1508-4a7a-99d6-7ba3e4598942",
   "metadata": {},
   "outputs": [],
   "source": []
  },
  {
   "cell_type": "code",
   "execution_count": null,
   "id": "41c4f7e5-c557-44f2-b155-8c3b7e3b9b6d",
   "metadata": {},
   "outputs": [],
   "source": []
  },
  {
   "cell_type": "code",
   "execution_count": null,
   "id": "458ba628-2726-42fb-adbe-a9a3161b93bd",
   "metadata": {},
   "outputs": [],
   "source": []
  }
 ],
 "metadata": {
  "kernelspec": {
   "display_name": "Python 3 (ipykernel)",
   "language": "python",
   "name": "python3"
  },
  "language_info": {
   "codemirror_mode": {
    "name": "ipython",
    "version": 3
   },
   "file_extension": ".py",
   "mimetype": "text/x-python",
   "name": "python",
   "nbconvert_exporter": "python",
   "pygments_lexer": "ipython3",
   "version": "3.11.7"
  }
 },
 "nbformat": 4,
 "nbformat_minor": 5
}
