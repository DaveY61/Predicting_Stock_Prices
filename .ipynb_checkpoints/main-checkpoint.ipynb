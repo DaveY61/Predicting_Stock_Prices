{
 "cells": [
  {
   "cell_type": "markdown",
   "id": "0699e84f-4c1c-4126-96bb-99b1230d703b",
   "metadata": {},
   "source": [
    "# Predicting Consumer Confidence Index (CCI) Trends Using Economic Indicators\n"
   ]
  },
  {
   "cell_type": "markdown",
   "id": "30381cda-995d-4d64-ae4f-066e8c7bc8cd",
   "metadata": {},
   "source": [
    "## Extract Global Biodiversity Information Facility (GBIF) Data"
   ]
  },
  {
   "cell_type": "code",
   "execution_count": null,
   "id": "8b294b05-63ca-434d-9a61-489586f53669",
   "metadata": {},
   "outputs": [],
   "source": []
  },
  {
   "cell_type": "code",
   "execution_count": null,
   "id": "482db9c5-22c2-4fb0-a9c2-9982eefcc040",
   "metadata": {},
   "outputs": [],
   "source": []
  },
  {
   "cell_type": "code",
   "execution_count": null,
   "id": "f4b3e3cf-212f-4136-8a95-7581282121e7",
   "metadata": {},
   "outputs": [],
   "source": []
  },
  {
   "cell_type": "code",
   "execution_count": null,
   "id": "1af33709-2db8-46ff-95b6-6ceda0499408",
   "metadata": {},
   "outputs": [],
   "source": []
  },
  {
   "cell_type": "code",
   "execution_count": null,
   "id": "084d0faa-82ca-4a84-8ca9-cbcf2e730c61",
   "metadata": {},
   "outputs": [],
   "source": []
  },
  {
   "cell_type": "code",
   "execution_count": null,
   "id": "86a24c57-568d-46ba-9490-80faf98bfd84",
   "metadata": {},
   "outputs": [],
   "source": []
  },
  {
   "cell_type": "code",
   "execution_count": null,
   "id": "2d52d360-ab6e-400c-8586-d2839f4e704a",
   "metadata": {},
   "outputs": [],
   "source": []
  },
  {
   "cell_type": "code",
   "execution_count": null,
   "id": "2a3a676c-2d6d-4796-978b-47ae0cee50de",
   "metadata": {},
   "outputs": [],
   "source": []
  },
  {
   "cell_type": "code",
   "execution_count": null,
   "id": "5dc84773-1291-4b40-973c-082df97f29b2",
   "metadata": {},
   "outputs": [],
   "source": []
  },
  {
   "cell_type": "code",
   "execution_count": null,
   "id": "aa5ce9b2-46fa-4bbb-9858-3a8894b1e8e5",
   "metadata": {},
   "outputs": [],
   "source": []
  },
  {
   "cell_type": "code",
   "execution_count": null,
   "id": "e68b6ffc-8003-4603-905f-8d9edc2ed3ce",
   "metadata": {},
   "outputs": [],
   "source": []
  },
  {
   "cell_type": "code",
   "execution_count": null,
   "id": "b54b91dd-f2d2-4325-a999-9ca0145bd900",
   "metadata": {},
   "outputs": [],
   "source": []
  },
  {
   "cell_type": "code",
   "execution_count": null,
   "id": "ace03442-2373-4924-9a65-51e3dc3a747c",
   "metadata": {},
   "outputs": [],
   "source": []
  },
  {
   "cell_type": "code",
   "execution_count": null,
   "id": "989569e2-0266-49ca-ae26-8c970c733c11",
   "metadata": {},
   "outputs": [],
   "source": []
  },
  {
   "cell_type": "code",
   "execution_count": null,
   "id": "08b1e411-e3d7-4df3-b56a-2cad643dcde7",
   "metadata": {},
   "outputs": [],
   "source": []
  },
  {
   "cell_type": "code",
   "execution_count": null,
   "id": "675a9c50-e1ed-467f-8da9-d39a43ae0d51",
   "metadata": {},
   "outputs": [],
   "source": []
  },
  {
   "cell_type": "code",
   "execution_count": null,
   "id": "18dede74-9fd3-4d02-b934-0da6a9a33f55",
   "metadata": {},
   "outputs": [],
   "source": []
  },
  {
   "cell_type": "code",
   "execution_count": null,
   "id": "ae27236f-9095-4db1-90e8-ecf348187d1b",
   "metadata": {},
   "outputs": [],
   "source": []
  },
  {
   "cell_type": "code",
   "execution_count": null,
   "id": "250a5a00-fa86-441f-ab79-9051a144b33e",
   "metadata": {},
   "outputs": [],
   "source": []
  },
  {
   "cell_type": "code",
   "execution_count": null,
   "id": "2c6460f5-c7ae-412a-a08a-292eac763ec4",
   "metadata": {},
   "outputs": [],
   "source": []
  },
  {
   "cell_type": "code",
   "execution_count": null,
   "id": "5cd6037b-081e-445e-83c9-ce76f59a4558",
   "metadata": {},
   "outputs": [],
   "source": []
  },
  {
   "cell_type": "code",
   "execution_count": null,
   "id": "10abb85c-69fa-4979-8385-d215cfdc29ea",
   "metadata": {},
   "outputs": [],
   "source": []
  }
 ],
 "metadata": {
  "kernelspec": {
   "display_name": "Python 3 (ipykernel)",
   "language": "python",
   "name": "python3"
  },
  "language_info": {
   "codemirror_mode": {
    "name": "ipython",
    "version": 3
   },
   "file_extension": ".py",
   "mimetype": "text/x-python",
   "name": "python",
   "nbconvert_exporter": "python",
   "pygments_lexer": "ipython3",
   "version": "3.11.7"
  }
 },
 "nbformat": 4,
 "nbformat_minor": 5
}
